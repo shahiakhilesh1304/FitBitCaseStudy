{
 "cells": [
  {
   "cell_type": "code",
   "execution_count": 14,
   "id": "3d87d35b-a225-4c8d-bd5c-ed0075d66392",
   "metadata": {},
   "outputs": [],
   "source": [
    "import numpy as np\n",
    "from datetime import datetime as dt"
   ]
  },
  {
   "cell_type": "code",
   "execution_count": 15,
   "id": "44d877c9-7adf-4201-ae7c-967b69d5efeb",
   "metadata": {},
   "outputs": [],
   "source": [
    "data = np.loadtxt(\"fit.txt\",dtype='str')"
   ]
  },
  {
   "cell_type": "code",
   "execution_count": 16,
   "id": "f3c80359-b73d-4ad2-8536-f28e5b6fde1b",
   "metadata": {},
   "outputs": [
    {
     "data": {
      "text/plain": [
       "array([['06-10-2017', '5464', 'Neutral', '181', '5', 'Inactive'],\n",
       "       ['07-10-2017', '6041', 'Sad', '197', '8', 'Inactive'],\n",
       "       ['08-10-2017', '25', 'Sad', '0', '5', 'Inactive'],\n",
       "       ['09-10-2017', '5461', 'Sad', '174', '4', 'Inactive'],\n",
       "       ['10-10-2017', '6915', 'Neutral', '223', '5', 'Active'],\n",
       "       ['11-10-2017', '4545', 'Sad', '149', '6', 'Inactive'],\n",
       "       ['12-10-2017', '4340', 'Sad', '140', '6', 'Inactive'],\n",
       "       ['13-10-2017', '1230', 'Sad', '38', '7', 'Inactive'],\n",
       "       ['14-10-2017', '61', 'Sad', '1', '5', 'Inactive'],\n",
       "       ['15-10-2017', '1258', 'Sad', '40', '6', 'Inactive'],\n",
       "       ['16-10-2017', '3148', 'Sad', '101', '8', 'Inactive'],\n",
       "       ['17-10-2017', '4687', 'Sad', '152', '5', 'Inactive'],\n",
       "       ['18-10-2017', '4732', 'Happy', '150', '6', 'Active'],\n",
       "       ['19-10-2017', '3519', 'Sad', '113', '7', 'Inactive'],\n",
       "       ['20-10-2017', '1580', 'Sad', '49', '5', 'Inactive'],\n",
       "       ['21-10-2017', '2822', 'Sad', '86', '6', 'Inactive'],\n",
       "       ['22-10-2017', '181', 'Sad', '6', '8', 'Inactive'],\n",
       "       ['23-10-2017', '3158', 'Neutral', '99', '5', 'Inactive'],\n",
       "       ['24-10-2017', '4383', 'Neutral', '143', '4', 'Inactive'],\n",
       "       ['25-10-2017', '3881', 'Neutral', '125', '5', 'Inactive'],\n",
       "       ['26-10-2017', '4037', 'Neutral', '129', '6', 'Inactive'],\n",
       "       ['27-10-2017', '202', 'Neutral', '6', '8', 'Inactive'],\n",
       "       ['28-10-2017', '292', 'Neutral', '9', '5', 'Inactive'],\n",
       "       ['29-10-2017', '330', 'Happy', '10', '6', 'Inactive'],\n",
       "       ['30-10-2017', '2209', 'Neutral', '72', '5', 'Inactive'],\n",
       "       ['31-10-2017', '4550', 'Happy', '150', '8', 'Active'],\n",
       "       ['01-11-2017', '4435', 'Happy', '141', '5', 'Inactive'],\n",
       "       ['02-11-2017', '4779', 'Happy', '156', '4', 'Inactive'],\n",
       "       ['03-11-2017', '1831', 'Happy', '57', '5', 'Inactive'],\n",
       "       ['04-11-2017', '2255', 'Happy', '72', '4', 'Inactive'],\n",
       "       ['05-11-2017', '539', 'Happy', '17', '5', 'Active'],\n",
       "       ['06-11-2017', '5464', 'Happy', '181', '4', 'Inactive'],\n",
       "       ['07-11-2017', '6041', 'Neutral', '197', '3', 'Inactive'],\n",
       "       ['08-11-2017', '4068', 'Happy', '131', '2', 'Inactive'],\n",
       "       ['09-11-2017', '4683', 'Happy', '154', '9', 'Inactive'],\n",
       "       ['10-11-2017', '4033', 'Happy', '137', '5', 'Inactive'],\n",
       "       ['11-11-2017', '6314', 'Happy', '193', '6', 'Active'],\n",
       "       ['12-11-2017', '614', 'Happy', '19', '4', 'Active'],\n",
       "       ['13-11-2017', '3149', 'Happy', '101', '5', 'Active'],\n",
       "       ['14-11-2017', '4005', 'Happy', '139', '8', 'Active'],\n",
       "       ['15-11-2017', '4880', 'Happy', '164', '4', 'Active'],\n",
       "       ['16-11-2017', '4136', 'Happy', '137', '5', 'Active'],\n",
       "       ['17-11-2017', '705', 'Happy', '22', '6', 'Active'],\n",
       "       ['18-11-2017', '570', 'Neutral', '17', '5', 'Active'],\n",
       "       ['19-11-2017', '269', 'Happy', '9', '6', 'Active'],\n",
       "       ['20-11-2017', '4275', 'Happy', '145', '5', 'Inactive'],\n",
       "       ['21-11-2017', '5999', 'Happy', '192', '6', 'Inactive'],\n",
       "       ['22-11-2017', '4421', 'Happy', '146', '5', 'Inactive'],\n",
       "       ['23-11-2017', '6930', 'Happy', '234', '6', 'Inactive'],\n",
       "       ['24-11-2017', '5195', 'Happy', '167', '5', 'Inactive'],\n",
       "       ['25-11-2017', '546', 'Happy', '16', '6', 'Inactive'],\n",
       "       ['26-11-2017', '493', 'Happy', '17', '7', 'Active'],\n",
       "       ['27-11-2017', '995', 'Happy', '32', '6', 'Active'],\n",
       "       ['28-11-2017', '1163', 'Neutral', '35', '7', 'Active'],\n",
       "       ['29-11-2017', '6676', 'Sad', '220', '6', 'Active'],\n",
       "       ['30-11-2017', '3608', 'Happy', '116', '5', 'Active'],\n",
       "       ['01-12-2017', '774', 'Happy', '23', '6', 'Active'],\n",
       "       ['02-12-2017', '1421', 'Happy', '44', '7', 'Active'],\n",
       "       ['03-12-2017', '4064', 'Happy', '131', '8', 'Active'],\n",
       "       ['04-12-2017', '2725', 'Happy', '86', '8', 'Active'],\n",
       "       ['05-12-2017', '5934', 'Happy', '194', '7', 'Active'],\n",
       "       ['06-12-2017', '1867', 'Happy', '60', '8', 'Active'],\n",
       "       ['07-12-2017', '3721', 'Sad', '121', '5', 'Active'],\n",
       "       ['08-12-2017', '2374', 'Neutral', '76', '4', 'Inactive'],\n",
       "       ['09-12-2017', '2909', 'Neutral', '93', '3', 'Active'],\n",
       "       ['10-12-2017', '1648', 'Sad', '53', '3', 'Active'],\n",
       "       ['11-12-2017', '799', 'Sad', '25', '4', 'Inactive'],\n",
       "       ['12-12-2017', '7102', 'Neutral', '227', '5', 'Active'],\n",
       "       ['13-12-2017', '3941', 'Neutral', '125', '5', 'Active'],\n",
       "       ['14-12-2017', '7422', 'Happy', '243', '5', 'Active'],\n",
       "       ['15-12-2017', '437', 'Neutral', '14', '3', 'Active'],\n",
       "       ['16-12-2017', '1231', 'Neutral', '39', '4', 'Active'],\n",
       "       ['17-12-2017', '1696', 'Sad', '55', '4', 'Inactive'],\n",
       "       ['18-12-2017', '4921', 'Neutral', '158', '5', 'Active'],\n",
       "       ['19-12-2017', '221', 'Sad', '7', '5', 'Active'],\n",
       "       ['20-12-2017', '6500', 'Neutral', '213', '5', 'Active'],\n",
       "       ['21-12-2017', '3575', 'Neutral', '116', '5', 'Active'],\n",
       "       ['22-12-2017', '4061', 'Sad', '129', '5', 'Inactive'],\n",
       "       ['23-12-2017', '651', 'Sad', '21', '5', 'Inactive'],\n",
       "       ['24-12-2017', '753', 'Sad', '28', '4', 'Inactive'],\n",
       "       ['25-12-2017', '518', 'Sad', '16', '3', 'Inactive'],\n",
       "       ['26-12-2017', '5537', 'Happy', '180', '4', 'Active'],\n",
       "       ['27-12-2017', '4108', 'Neutral', '138', '5', 'Active'],\n",
       "       ['28-12-2017', '5376', 'Happy', '176', '5', 'Active'],\n",
       "       ['29-12-2017', '3066', 'Neutral', '99', '4', 'Active'],\n",
       "       ['30-12-2017', '177', 'Sad', '5', '5', 'Inactive'],\n",
       "       ['31-12-2017', '36', 'Sad', '1', '3', 'Inactive'],\n",
       "       ['01-01-2018', '299', 'Sad', '10', '3', 'Inactive'],\n",
       "       ['02-01-2018', '1447', 'Neutral', '47', '3', 'Inactive'],\n",
       "       ['03-01-2018', '2599', 'Neutral', '84', '2', 'Inactive'],\n",
       "       ['04-01-2018', '702', 'Sad', '23', '3', 'Inactive'],\n",
       "       ['05-01-2018', '133', 'Sad', '4', '2', 'Inactive'],\n",
       "       ['06-01-2018', '153', 'Happy', '0', '8', 'Inactive'],\n",
       "       ['07-01-2018', '500', 'Neutral', '0', '5', 'Active'],\n",
       "       ['08-01-2018', '2127', 'Neutral', '0', '5', 'Inactive'],\n",
       "       ['09-01-2018', '2203', 'Happy', '0', '5', 'Active']], dtype='<U10')"
      ]
     },
     "execution_count": 16,
     "metadata": {},
     "output_type": "execute_result"
    }
   ],
   "source": [
    "data"
   ]
  },
  {
   "cell_type": "markdown",
   "id": "f937a5df-0ffc-46e5-b0c0-2cd03ac6d3ec",
   "metadata": {},
   "source": [
    "# Insight To Data\n",
    "\n",
    "### In the above data set the data set is defined in below format\n",
    "#### Date, steps count, Mood, Calories burned, Hours of sleep, Daily Status"
   ]
  },
  {
   "cell_type": "markdown",
   "id": "3e462ff4-b1ec-4fa8-b7a5-1dcda5b5bb50",
   "metadata": {},
   "source": [
    "# Explority Data Analysis\n",
    "\n",
    "Imagine you have a big box of colored candies EDA is like looking at all of them and counting each color.\n",
    "\n",
    "#### \"Explore and Analyse Everything in the data without making any decision that is know as EDA\""
   ]
  },
  {
   "cell_type": "markdown",
   "id": "fbfed9fd-91ae-42eb-8e4b-f2527aaa4d35",
   "metadata": {},
   "source": [
    "TRANSPOSE"
   ]
  },
  {
   "cell_type": "code",
   "execution_count": 17,
   "id": "bfb42070-7492-4592-9bef-08dd7ec633eb",
   "metadata": {},
   "outputs": [],
   "source": [
    "data_t = data.T"
   ]
  },
  {
   "cell_type": "code",
   "execution_count": 18,
   "id": "6d7da1a3-ba08-426c-b9d3-580e34816585",
   "metadata": {},
   "outputs": [],
   "source": [
    "dates = data_t[0] #all the dates"
   ]
  },
  {
   "cell_type": "code",
   "execution_count": 19,
   "id": "1b55c059-9ab3-4d9a-8373-832845434ca3",
   "metadata": {},
   "outputs": [
    {
     "data": {
      "text/plain": [
       "array(['06-10-2017', '07-10-2017', '08-10-2017', '09-10-2017',\n",
       "       '10-10-2017', '11-10-2017', '12-10-2017', '13-10-2017',\n",
       "       '14-10-2017', '15-10-2017', '16-10-2017', '17-10-2017',\n",
       "       '18-10-2017', '19-10-2017', '20-10-2017', '21-10-2017',\n",
       "       '22-10-2017', '23-10-2017', '24-10-2017', '25-10-2017',\n",
       "       '26-10-2017', '27-10-2017', '28-10-2017', '29-10-2017',\n",
       "       '30-10-2017', '31-10-2017', '01-11-2017', '02-11-2017',\n",
       "       '03-11-2017', '04-11-2017', '05-11-2017', '06-11-2017',\n",
       "       '07-11-2017', '08-11-2017', '09-11-2017', '10-11-2017',\n",
       "       '11-11-2017', '12-11-2017', '13-11-2017', '14-11-2017',\n",
       "       '15-11-2017', '16-11-2017', '17-11-2017', '18-11-2017',\n",
       "       '19-11-2017', '20-11-2017', '21-11-2017', '22-11-2017',\n",
       "       '23-11-2017', '24-11-2017', '25-11-2017', '26-11-2017',\n",
       "       '27-11-2017', '28-11-2017', '29-11-2017', '30-11-2017',\n",
       "       '01-12-2017', '02-12-2017', '03-12-2017', '04-12-2017',\n",
       "       '05-12-2017', '06-12-2017', '07-12-2017', '08-12-2017',\n",
       "       '09-12-2017', '10-12-2017', '11-12-2017', '12-12-2017',\n",
       "       '13-12-2017', '14-12-2017', '15-12-2017', '16-12-2017',\n",
       "       '17-12-2017', '18-12-2017', '19-12-2017', '20-12-2017',\n",
       "       '21-12-2017', '22-12-2017', '23-12-2017', '24-12-2017',\n",
       "       '25-12-2017', '26-12-2017', '27-12-2017', '28-12-2017',\n",
       "       '29-12-2017', '30-12-2017', '31-12-2017', '01-01-2018',\n",
       "       '02-01-2018', '03-01-2018', '04-01-2018', '05-01-2018',\n",
       "       '06-01-2018', '07-01-2018', '08-01-2018', '09-01-2018'],\n",
       "      dtype='<U10')"
      ]
     },
     "execution_count": 19,
     "metadata": {},
     "output_type": "execute_result"
    }
   ],
   "source": [
    "dates"
   ]
  },
  {
   "cell_type": "code",
   "execution_count": 20,
   "id": "15823503-dada-435c-acd9-d6c9932c8ec7",
   "metadata": {},
   "outputs": [],
   "source": [
    "step_counts = data_t[1]"
   ]
  },
  {
   "cell_type": "code",
   "execution_count": 21,
   "id": "c099d1b9-41f8-4a9b-94c1-c584515768cd",
   "metadata": {},
   "outputs": [
    {
     "data": {
      "text/plain": [
       "array(['5464', '6041', '25', '5461', '6915', '4545', '4340', '1230', '61',\n",
       "       '1258', '3148', '4687', '4732', '3519', '1580', '2822', '181',\n",
       "       '3158', '4383', '3881', '4037', '202', '292', '330', '2209',\n",
       "       '4550', '4435', '4779', '1831', '2255', '539', '5464', '6041',\n",
       "       '4068', '4683', '4033', '6314', '614', '3149', '4005', '4880',\n",
       "       '4136', '705', '570', '269', '4275', '5999', '4421', '6930',\n",
       "       '5195', '546', '493', '995', '1163', '6676', '3608', '774', '1421',\n",
       "       '4064', '2725', '5934', '1867', '3721', '2374', '2909', '1648',\n",
       "       '799', '7102', '3941', '7422', '437', '1231', '1696', '4921',\n",
       "       '221', '6500', '3575', '4061', '651', '753', '518', '5537', '4108',\n",
       "       '5376', '3066', '177', '36', '299', '1447', '2599', '702', '133',\n",
       "       '153', '500', '2127', '2203'], dtype='<U10')"
      ]
     },
     "execution_count": 21,
     "metadata": {},
     "output_type": "execute_result"
    }
   ],
   "source": [
    "step_counts"
   ]
  },
  {
   "cell_type": "code",
   "execution_count": 22,
   "id": "5d178567-e1db-468f-b6a1-f2c5d73d25df",
   "metadata": {},
   "outputs": [],
   "source": [
    "# or you can also do \\\n",
    "dates, steps, moods, calories, hour_of_sleep, activity_status = data.T"
   ]
  },
  {
   "cell_type": "code",
   "execution_count": 23,
   "id": "e219343a-a73e-4715-a5c4-ed16c86680c0",
   "metadata": {},
   "outputs": [
    {
     "data": {
      "text/plain": [
       "'Friday'"
      ]
     },
     "execution_count": 23,
     "metadata": {},
     "output_type": "execute_result"
    }
   ],
   "source": [
    "dt.strptime(dates[0],'%d-%m-%Y').strftime(\"%A\")"
   ]
  },
  {
   "cell_type": "markdown",
   "id": "b58f9a8e-f1b1-476d-becd-75b785621441",
   "metadata": {},
   "source": [
    "# DATA CLEANING"
   ]
  },
  {
   "cell_type": "code",
   "execution_count": 24,
   "id": "df45802b-a168-48c1-a224-6f5ebfb4f7ed",
   "metadata": {},
   "outputs": [],
   "source": [
    "steps = steps.astype('int') #converting steps into integer"
   ]
  },
  {
   "cell_type": "code",
   "execution_count": 25,
   "id": "7d5e82d0-003e-419b-99ff-fd0f61a352bd",
   "metadata": {},
   "outputs": [],
   "source": [
    "calories = calories.astype('int') #converting calories into int"
   ]
  },
  {
   "cell_type": "code",
   "execution_count": 26,
   "id": "53f39b44-0d96-4101-ba93-7181613f4ff0",
   "metadata": {},
   "outputs": [],
   "source": [
    "hour_of_sleep = hour_of_sleep.astype('int') #converting hours of sleep into int"
   ]
  },
  {
   "cell_type": "code",
   "execution_count": 27,
   "id": "20eca447-b5f6-4cac-bcb4-59bc270ec104",
   "metadata": {},
   "outputs": [],
   "source": [
    "mood_types=np.unique(moods) # taking all the mood tyoes available"
   ]
  },
  {
   "cell_type": "code",
   "execution_count": 28,
   "id": "bbbecc31-67dd-41bb-a097-239723c6b69f",
   "metadata": {},
   "outputs": [
    {
     "data": {
      "text/plain": [
       "array(['Happy', 'Neutral', 'Sad'], dtype='<U10')"
      ]
     },
     "execution_count": 28,
     "metadata": {},
     "output_type": "execute_result"
    }
   ],
   "source": [
    "np.unique(moods) # listeioning all the mood types"
   ]
  },
  {
   "cell_type": "code",
   "execution_count": 29,
   "id": "1a6a193c-f26d-45bf-ba7c-e4583e4ec76b",
   "metadata": {},
   "outputs": [],
   "source": [
    "happy_mood_cond = moods==mood_types[0]"
   ]
  },
  {
   "cell_type": "code",
   "execution_count": 30,
   "id": "95bb3e99-a7ba-430a-9d4a-31f768898d22",
   "metadata": {},
   "outputs": [],
   "source": [
    "sad_mood_cond = moods==mood_types[2]"
   ]
  },
  {
   "cell_type": "code",
   "execution_count": 31,
   "id": "ad963548-4ccf-411c-a1f5-e8b94f2133cf",
   "metadata": {},
   "outputs": [],
   "source": [
    "neutral_mood_cond = moods==mood_types[1]"
   ]
  },
  {
   "cell_type": "code",
   "execution_count": 32,
   "id": "ec32ab9b-4388-4366-953a-88eb4181bed9",
   "metadata": {},
   "outputs": [
    {
     "data": {
      "text/plain": [
       "40"
      ]
     },
     "execution_count": 32,
     "metadata": {},
     "output_type": "execute_result"
    }
   ],
   "source": [
    "len(steps[happy_mood_cond]) # will tell how many times they are happy"
   ]
  },
  {
   "cell_type": "code",
   "execution_count": 33,
   "id": "b998b6d5-0284-4f96-96a2-41781f448b54",
   "metadata": {},
   "outputs": [
    {
     "data": {
      "text/plain": [
       "29"
      ]
     },
     "execution_count": 33,
     "metadata": {},
     "output_type": "execute_result"
    }
   ],
   "source": [
    "len(steps[sad_mood_cond]) # will tell how many times they are sad"
   ]
  },
  {
   "cell_type": "code",
   "execution_count": 34,
   "id": "a88dbd95-9791-4739-9178-11abf1ae9af6",
   "metadata": {},
   "outputs": [
    {
     "data": {
      "text/plain": [
       "27"
      ]
     },
     "execution_count": 34,
     "metadata": {},
     "output_type": "execute_result"
    }
   ],
   "source": [
    "len(steps[neutral_mood_cond]) # will tell how many times they are neutral"
   ]
  },
  {
   "cell_type": "code",
   "execution_count": 52,
   "id": "8453e4ab-ecd0-42b9-958a-3439b3b04547",
   "metadata": {},
   "outputs": [],
   "source": [
    "unique_status = np.unique(activity_status)"
   ]
  },
  {
   "cell_type": "code",
   "execution_count": 53,
   "id": "466a6e40-8595-4384-859d-5cf7ef6401ed",
   "metadata": {},
   "outputs": [
    {
     "data": {
      "text/plain": [
       "array(['Active', 'Inactive'], dtype='<U10')"
      ]
     },
     "execution_count": 53,
     "metadata": {},
     "output_type": "execute_result"
    }
   ],
   "source": [
    "np.unique(activity_status)"
   ]
  },
  {
   "cell_type": "code",
   "execution_count": 54,
   "id": "77301054-436e-4f7a-9551-f30881b28c9b",
   "metadata": {},
   "outputs": [],
   "source": [
    "active_cond = activity_status == unique_status[0]"
   ]
  },
  {
   "cell_type": "code",
   "execution_count": 55,
   "id": "de1c713a-5327-4339-bc9f-4fa995a633c6",
   "metadata": {},
   "outputs": [],
   "source": [
    "inactive_cond = activity_status == unique_status[1]"
   ]
  },
  {
   "cell_type": "code",
   "execution_count": 71,
   "id": "fee3d5aa-0e65-4d0f-b17d-0df8a0c7da50",
   "metadata": {},
   "outputs": [],
   "source": [
    "weekdays = np.array([dt.strptime(date_str,'%d-%m-%Y').strftime(\"%A\") for date_str in dates])"
   ]
  },
  {
   "cell_type": "code",
   "execution_count": 73,
   "id": "8abf5184-5a6e-42e2-90dd-cb16e7d4773c",
   "metadata": {},
   "outputs": [],
   "source": [
    "unique_days = np.unique(weekdays)"
   ]
  },
  {
   "cell_type": "code",
   "execution_count": 74,
   "id": "b57e7e11-482f-4b30-87dd-5bdb1248e8cb",
   "metadata": {},
   "outputs": [
    {
     "data": {
      "text/plain": [
       "array(['Friday', 'Monday', 'Saturday', 'Sunday', 'Thursday', 'Tuesday',\n",
       "       'Wednesday'], dtype='<U9')"
      ]
     },
     "execution_count": 74,
     "metadata": {},
     "output_type": "execute_result"
    }
   ],
   "source": [
    "unique_days"
   ]
  },
  {
   "cell_type": "markdown",
   "id": "b8b37f15-ed3b-4f34-9be6-936168d377f3",
   "metadata": {},
   "source": [
    "# DO ANALYSIS FOR\n",
    "\n",
    "### 1. In which mood do people walk more\n",
    "### 2. In which mood do people sleep more\n",
    "### 3. In which mood people burn more calories\n",
    "### 4. In which day of the week people are more active\n",
    "### 5. In which day of the week people are more lazy"
   ]
  },
  {
   "cell_type": "markdown",
   "id": "d347a7f1-e620-47f4-b53e-6d697ea2db15",
   "metadata": {},
   "source": [
    "# 1. When People walk more"
   ]
  },
  {
   "cell_type": "code",
   "execution_count": 35,
   "id": "df1253e8-b710-4e28-bbdb-76b6b7211bd6",
   "metadata": {},
   "outputs": [],
   "source": [
    "mean_happy = np.mean(steps[happy_mood_cond])"
   ]
  },
  {
   "cell_type": "code",
   "execution_count": 36,
   "id": "37d66c27-d977-4670-9fb4-828f6ab3ff3b",
   "metadata": {},
   "outputs": [],
   "source": [
    "mean_sad = np.mean(steps[sad_mood_cond])"
   ]
  },
  {
   "cell_type": "code",
   "execution_count": 37,
   "id": "20cccc16-2060-456e-9dd3-e26b3b9e3fff",
   "metadata": {},
   "outputs": [],
   "source": [
    "mean_neutral = np.mean(steps[neutral_mood_cond])"
   ]
  },
  {
   "cell_type": "code",
   "execution_count": 38,
   "id": "870797cb-9d10-44a5-998f-4b24bb9c7665",
   "metadata": {},
   "outputs": [],
   "source": [
    "walk_result_mean = {\"happy\":mean_happy,\"sad\": mean_sad, \"neutral\": mean_neutral}\n",
    "max_mood = max(walk_result_mean, key=walk_result_mean.get)\n",
    "min_mood = min(walk_result_mean, key=walk_result_mean.get)"
   ]
  },
  {
   "cell_type": "code",
   "execution_count": 39,
   "id": "ed353d95-c74c-475a-9c23-39f5778a009c",
   "metadata": {},
   "outputs": [
    {
     "name": "stdout",
     "output_type": "stream",
     "text": [
      "The highest mean value is in happy mood.\n",
      "The lowest mean value is in sad mood.\n"
     ]
    }
   ],
   "source": [
    "print(f\"The highest mean value is in {max_mood} mood.\")\n",
    "print(f\"The lowest mean value is in {min_mood} mood.\")"
   ]
  },
  {
   "cell_type": "markdown",
   "id": "742b05af-02aa-484b-ba9b-e0198f5d8250",
   "metadata": {},
   "source": [
    "### Insight\n",
    " - people's step count MEAN is way greater when they are happy than sad and neutral mood\n",
    " - We can conclude that from the above data when people are happy they walk more.\n",
    " - People walk least when they are sad"
   ]
  },
  {
   "cell_type": "markdown",
   "id": "d08ec097-9326-4fbe-84eb-7bfbc2aec7fb",
   "metadata": {},
   "source": [
    "# 2. When people sleep more"
   ]
  },
  {
   "cell_type": "code",
   "execution_count": 40,
   "id": "f1cf88be-871b-4a80-9bba-523208080b2d",
   "metadata": {},
   "outputs": [],
   "source": [
    "mean_happy = np.mean(hour_of_sleep[happy_mood_cond])"
   ]
  },
  {
   "cell_type": "code",
   "execution_count": 41,
   "id": "75c56c26-3366-4086-9e35-ed70e6fc5164",
   "metadata": {},
   "outputs": [],
   "source": [
    "mean_sad = np.mean(hour_of_sleep[sad_mood_cond])"
   ]
  },
  {
   "cell_type": "code",
   "execution_count": 42,
   "id": "2717d3c5-6e5e-4925-937f-d6a47b69bdf8",
   "metadata": {},
   "outputs": [],
   "source": [
    "mean_neutral = np.mean(hour_of_sleep[neutral_mood_cond])"
   ]
  },
  {
   "cell_type": "code",
   "execution_count": 44,
   "id": "99dbed7c-5a38-426e-b686-0cd9379bec4c",
   "metadata": {},
   "outputs": [],
   "source": [
    "sleep_result_mean = {\"happy\":mean_happy,\"sad\": mean_sad, \"neutral\": mean_neutral}\n",
    "max_mood = max(sleep_result_mean, key=sleep_result_mean.get)\n",
    "min_mood = min(sleep_result_mean, key=sleep_result_mean.get)"
   ]
  },
  {
   "cell_type": "code",
   "execution_count": 45,
   "id": "0c462076-5c4a-48a3-a728-cd8f9757d9db",
   "metadata": {},
   "outputs": [
    {
     "name": "stdout",
     "output_type": "stream",
     "text": [
      "The highest mean value is in happy mood.\n",
      "The lowest mean value is in neutral mood.\n"
     ]
    }
   ],
   "source": [
    "print(f\"The highest mean value is in {max_mood} mood.\")\n",
    "print(f\"The lowest mean value is in {min_mood} mood.\")"
   ]
  },
  {
   "cell_type": "markdown",
   "id": "9bdcac8a-4233-4542-98da-5e0556abe76e",
   "metadata": {},
   "source": [
    "### Insight\n",
    "- People sleep hours MEAN is maximum when they are happy, that means when they are happy they sleep more\n",
    "- People's sleep hours are lowest when they are neutral that says people sleep less on their neutral days"
   ]
  },
  {
   "cell_type": "markdown",
   "id": "ea01031d-7cff-405b-8859-8c497994ac4a",
   "metadata": {},
   "source": [
    "# 3. When people burn more calories"
   ]
  },
  {
   "cell_type": "code",
   "execution_count": 46,
   "id": "c938d574-ebf3-4380-af0d-1276652de060",
   "metadata": {},
   "outputs": [],
   "source": [
    "mean_happy = np.mean(calories[happy_mood_cond])"
   ]
  },
  {
   "cell_type": "code",
   "execution_count": 47,
   "id": "95c5b4f6-c1fb-4b42-b137-a01846522bd6",
   "metadata": {},
   "outputs": [],
   "source": [
    "mean_sad = np.mean(calories[sad_mood_cond])"
   ]
  },
  {
   "cell_type": "code",
   "execution_count": 48,
   "id": "cda59c5a-ae57-4dcd-b342-779bb05f3e43",
   "metadata": {},
   "outputs": [],
   "source": [
    "mean_neutral = np.mean(calories[neutral_mood_cond])"
   ]
  },
  {
   "cell_type": "code",
   "execution_count": 49,
   "id": "9dab363a-1ff7-43fe-b761-58e159e5a0ea",
   "metadata": {},
   "outputs": [],
   "source": [
    "sleep_result_mean = {\"happy\":mean_happy,\"sad\": mean_sad, \"neutral\": mean_neutral}\n",
    "max_mood = max(sleep_result_mean, key=sleep_result_mean.get)\n",
    "min_mood = min(sleep_result_mean, key=sleep_result_mean.get)"
   ]
  },
  {
   "cell_type": "code",
   "execution_count": 50,
   "id": "c50e4d7f-d2f7-4cb0-aa78-07b0cfd9a1b9",
   "metadata": {},
   "outputs": [
    {
     "name": "stdout",
     "output_type": "stream",
     "text": [
      "The highest mean value is in happy mood.\n",
      "The lowest mean value is in sad mood.\n"
     ]
    }
   ],
   "source": [
    "print(f\"The highest mean value is in {max_mood} mood.\")\n",
    "print(f\"The lowest mean value is in {min_mood} mood.\")"
   ]
  },
  {
   "cell_type": "markdown",
   "id": "e1370b0e-2e6f-44be-9608-35d588c87a0f",
   "metadata": {},
   "source": [
    "### Insight\n",
    "- As we can see in the above data the maximum calories are burned when the person is happy\n",
    "- lowest calories are burned when the person is sad\n",
    "- Person is mostly inactive when they are sad"
   ]
  },
  {
   "cell_type": "markdown",
   "id": "2c4bd46d-d7bd-4d36-8894-56398bee4f7c",
   "metadata": {},
   "source": [
    "# 4. Which day people are more active"
   ]
  },
  {
   "cell_type": "code",
   "execution_count": 63,
   "id": "8611d3cd-3c86-48e7-b9cf-f0967ca52d5c",
   "metadata": {},
   "outputs": [],
   "source": [
    "happy_mood_active = len(activity_status[active_cond & happy_mood_cond])"
   ]
  },
  {
   "cell_type": "code",
   "execution_count": 64,
   "id": "83e174cd-2790-4891-a86a-3b5ec155b7de",
   "metadata": {},
   "outputs": [],
   "source": [
    "sad_mood_active = len(activity_status[active_cond & sad_mood_cond])"
   ]
  },
  {
   "cell_type": "code",
   "execution_count": 65,
   "id": "1190ed7f-0fec-4919-b27e-901135676c5a",
   "metadata": {},
   "outputs": [],
   "source": [
    "neutral_mood_active = len(activity_status[active_cond & neutral_mood_cond])"
   ]
  },
  {
   "cell_type": "code",
   "execution_count": 66,
   "id": "282a05bb-7ed7-4965-b683-b720bb6e3af6",
   "metadata": {},
   "outputs": [],
   "source": [
    "sleep_result_mean = {\"happy\":happy_mood_active,\"sad\": sad_mood_active, \"neutral\": neutral_mood_active}\n",
    "max_mood = max(sleep_result_mean, key=sleep_result_mean.get)\n",
    "min_mood = min(sleep_result_mean, key=sleep_result_mean.get)"
   ]
  },
  {
   "cell_type": "code",
   "execution_count": 67,
   "id": "3290d52b-7c2b-4549-829d-7c99ee93b0f2",
   "metadata": {},
   "outputs": [
    {
     "name": "stdout",
     "output_type": "stream",
     "text": [
      "The highest mean value is in happy mood.\n",
      "The lowest mean value is in sad mood.\n"
     ]
    }
   ],
   "source": [
    "print(f\"The highest mean value is in {max_mood} mood.\")\n",
    "print(f\"The lowest mean value is in {min_mood} mood.\")"
   ]
  },
  {
   "cell_type": "markdown",
   "id": "1fdfba2f-644c-479e-aaa8-038a679e472d",
   "metadata": {},
   "source": [
    "### Insight\n",
    "- When people are happy they are more active\n",
    "- When people are sad they are least active\n",
    "  "
   ]
  },
  {
   "cell_type": "markdown",
   "id": "bd7182ef-b4a4-4181-85a8-49fa2e20f36b",
   "metadata": {},
   "source": [
    "# 5. Which day of the week people are more lazy"
   ]
  },
  {
   "cell_type": "code",
   "execution_count": null,
   "id": "bb79037f-8917-4692-ad90-84e29fa35864",
   "metadata": {},
   "outputs": [],
   "source": [
    "# lazy condition = least calorieas and least step and max sleep and inactive activity_status"
   ]
  },
  {
   "cell_type": "code",
   "execution_count": 90,
   "id": "eb2778f3-7e55-4e40-97da-6a4b7f1c4db7",
   "metadata": {},
   "outputs": [
    {
     "data": {
      "text/plain": [
       "'Friday'"
      ]
     },
     "execution_count": 90,
     "metadata": {},
     "output_type": "execute_result"
    }
   ],
   "source": [
    "weekdays[min(calories) & (max(hour_of_sleep))  & min(steps)]"
   ]
  },
  {
   "cell_type": "code",
   "execution_count": 94,
   "id": "31c54056-971b-4aa1-a4cf-72a49fcc7bf2",
   "metadata": {},
   "outputs": [
    {
     "data": {
      "text/plain": [
       "'Neutral'"
      ]
     },
     "execution_count": 94,
     "metadata": {},
     "output_type": "execute_result"
    }
   ],
   "source": [
    "moods[min(calories) & (max(hour_of_sleep))  & min(steps)]"
   ]
  },
  {
   "cell_type": "markdown",
   "id": "e8aa8cba-c3ab-48ac-b04a-1d13e83465b0",
   "metadata": {},
   "source": [
    "### Insight\n",
    "- According to the above data people are sleeping more on Fridays and having minimum steps on Fridays which it results in the least calorie burn\n",
    "- So we are considering Friday to be the laziest day of the week\n",
    "- Also predicted that the neutral mood people are more lazy"
   ]
  },
  {
   "cell_type": "markdown",
   "id": "f65f9f15-f5b6-4470-a5da-a19b3854685a",
   "metadata": {},
   "source": [
    "# POWER INSIGHT"
   ]
  },
  {
   "cell_type": "markdown",
   "id": "53f72ad3-70d1-4664-b699-17bf1c171caa",
   "metadata": {},
   "source": [
    "Individuals who experience happiness tend to engage in increased physical activity, including walking more frequently. This heightened level of activity not only leads to the burning of additional calories but is also indicative of a positive correlation between emotional well-being and a commitment to a healthy lifestyle. Moreover, the positive influence of happiness extends to one's sleep patterns, with content individuals demonstrating a proclivity for well-balanced and restorative sleep. In contrast, the data suggests that those in a neutral mood may exhibit a tendency towards lethargy and reduced physical activity."
   ]
  }
 ],
 "metadata": {
  "kernelspec": {
   "display_name": "Python 3 (ipykernel)",
   "language": "python",
   "name": "python3"
  },
  "language_info": {
   "codemirror_mode": {
    "name": "ipython",
    "version": 3
   },
   "file_extension": ".py",
   "mimetype": "text/x-python",
   "name": "python",
   "nbconvert_exporter": "python",
   "pygments_lexer": "ipython3",
   "version": "3.11.5"
  }
 },
 "nbformat": 4,
 "nbformat_minor": 5
}
